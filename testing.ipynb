{
 "cells": [
  {
   "cell_type": "code",
   "execution_count": 16,
   "metadata": {},
   "outputs": [
    {
     "data": {
      "text/plain": [
       "(124, 129, 1)"
      ]
     },
     "execution_count": 16,
     "metadata": {},
     "output_type": "execute_result"
    }
   ],
   "source": [
    "import os\n",
    "import pathlib\n",
    "\n",
    "import matplotlib.pyplot as plt\n",
    "import numpy as np\n",
    "import seaborn as sns\n",
    "import tensorflow as tf\n",
    "import bentoml\n",
    "import pandas as pd\n",
    "\n",
    "from tensorflow.keras import layers\n",
    "from tensorflow.keras import models\n",
    "from IPython import display\n",
    "\n",
    "labels = open('labels.txt').read().split()\n",
    "spectrogram = pd.read_csv(r\"C:\\Users\\Kidma\\source\\repos\\deployingmodel\\test_spectr.csv\", index_col=0).to_numpy()\n",
    "\n",
    "spectrogram = np.expand_dims(spectrogram, 2)\n",
    "np.save('spectrogram_test', spectrogram)\n",
    "spectrogram.shape"
   ]
  },
  {
   "cell_type": "code",
   "execution_count": 17,
   "metadata": {},
   "outputs": [],
   "source": [
    "model_keras = tf.keras.models.load_model('audio_commands_model_keras')\n",
    "# model_bento = bentoml.keras.get('audio_commands_model_bento:latest').to_runner()"
   ]
  },
  {
   "cell_type": "code",
   "execution_count": 18,
   "metadata": {},
   "outputs": [
    {
     "data": {
      "text/plain": [
       "<tf.Tensor: shape=(1, 8), dtype=float32, numpy=\n",
       "array([[  0.10812601,  -1.8951931 ,   1.7778767 ,  -4.502115  ,\n",
       "        -17.3776    ,  22.90076   ,   2.0067415 ,  -3.9159763 ]],\n",
       "      dtype=float32)>"
      ]
     },
     "execution_count": 18,
     "metadata": {},
     "output_type": "execute_result"
    }
   ],
   "source": [
    "input = np.expand_dims(spectrogram, axis=0)\n",
    "output = model_keras(input)\n",
    "output"
   ]
  },
  {
   "cell_type": "code",
   "execution_count": 19,
   "metadata": {},
   "outputs": [
    {
     "data": {
      "text/plain": [
       "<tf.Tensor: shape=(8,), dtype=float32, numpy=\n",
       "array([1.2626541e-10, 1.7031546e-11, 6.7057554e-10, 1.2562677e-12,\n",
       "       3.2161121e-18, 1.0000000e+00, 8.4302870e-10, 2.2575607e-12],\n",
       "      dtype=float32)>"
      ]
     },
     "execution_count": 19,
     "metadata": {},
     "output_type": "execute_result"
    }
   ],
   "source": [
    "tf.nn.softmax(output[0])"
   ]
  },
  {
   "cell_type": "code",
   "execution_count": 20,
   "metadata": {},
   "outputs": [
    {
     "data": {
      "image/png": "[encoded data removed]",
      "text/plain": [
       "<Figure size 640x480 with 1 Axes>"
      ]
     },
     "metadata": {},
     "output_type": "display_data"
    }
   ],
   "source": [
    "plt.bar(labels, tf.nn.softmax(output[0]))\n",
    "plt.title(f'Predictions for \"{labels[tf.argmax(output[0])]}\"')\n",
    "plt.show()"
   ]
  },
  {
   "cell_type": "code",
   "execution_count": 15,
   "metadata": {},
   "outputs": [
    {
     "name": "stdout",
     "output_type": "stream",
     "text": [
      "pipreqs  --force --ignore .history,__pycache__ C:\\Users\\Kidma\\source\\repos\\deployingmodel\n"
     ]
    },
    {
     "name": "stderr",
     "output_type": "stream",
     "text": [
      "WARNING: Import named \"Requests\" not found locally. Trying to resolve it at the PyPI server.\n",
      "WARNING: Import named \"Requests\" was resolved to \"requests:2.31.0\" package (https://pypi.org/project/requests/).\n",
      "Please, verify manually the final list of requirements.txt to avoid possible dependency confusions.\n",
      "WARNING: Import named \"seaborn\" not found locally. Trying to resolve it at the PyPI server.\n",
      "WARNING: Import named \"seaborn\" was resolved to \"seaborn:0.12.2\" package (https://pypi.org/project/seaborn/).\n",
      "Please, verify manually the final list of requirements.txt to avoid possible dependency confusions.\n",
      "INFO: Successfully saved requirements file in C:\\Users\\Kidma\\source\\repos\\deployingmodel\\requirements.txt\n"
     ]
    }
   ],
   "source": [
    "! pipreqsnb --force --ignore .history,__pycache__ C:\\Users\\Kidma\\source\\repos\\deployingmodel"
   ]
  }
 ],
 "metadata": {
  "kernelspec": {
   "display_name": "fullds",
   "language": "python",
   "name": "python3"
  },
  "language_info": {
   "codemirror_mode": {
    "name": "ipython",
    "version": 3
   },
   "file_extension": ".py",
   "mimetype": "text/x-python",
   "name": "python",
   "nbconvert_exporter": "python",
   "pygments_lexer": "ipython3",
   "version": "3.8.16"
  },
  "orig_nbformat": 4
 },
 "nbformat": 4,
 "nbformat_minor": 2
}
